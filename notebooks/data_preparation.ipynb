{
 "cells": [
  {
   "cell_type": "markdown",
   "metadata": {},
   "source": [
    "# Google Colab Setup"
   ]
  },
  {
   "cell_type": "code",
   "execution_count": 1,
   "metadata": {},
   "outputs": [],
   "source": [
    "#@title Setup Google Colab by running this cell only once (ignore this if run locally) {display-mode: \"form\"}\n",
    "import sys \n",
    "if 'google.colab' in sys.modules:\n",
    "    # Clone GitHub repository\n",
    "    !git clone https://github.com/epfl-exts/aiml2days.git\n",
    "        \n",
    "    # Copy files required to run the code\n",
    "    !cp -r \"aiml2days/notebooks/data\" \"aiml2days/notebooks/data_prep_tools.py\" \"aiml2days/notebooks/EDA_tools.py\" \"aiml2days/notebooks/modeling_tools.py\"\n",
    "    \n",
    "    # Install packages via pip\n",
    "    !pip install -r \"aiml2days/colab-requirements.txt\"\n",
    "    \n",
    "    # Restart Runtime\n",
    "    import os\n",
    "    os.kill(os.getpid(), 9)"
   ]
  },
  {
   "cell_type": "markdown",
   "metadata": {
    "tags": []
   },
   "source": [
    "\n",
    "# Data\n",
    "\n",
    "We will use the [SpamAssassin](https://spamassassin.apache.org/) public email corpus. This dataset contains ~6'000 labeled emails. If you want to learn more about this dataset, check [this](https://spamassassin.apache.org/old/publiccorpus/). (*Note: Datasets of text are called corpora and samples are called documents.*) \n",
    "\n",
    "The dataset has been downloaded for you and is available in the *data* folder.\n",
    "\n",
    "The dataset has been labelled, i.e. we are told whether an email has been designated as spam, .e.g. if it was flagged by a user, or whether it is considered an example of regular emails (non-spam, also called \"ham\"). \n",
    "\n",
    "Our goal is to explore and compare various features space and machine learning approaches. The use of spam emails is just for demonstration and learning purpose as it is a text-based example that everyone is easily familiar with and that allows us to highlight different stages of developing a machine learning application and the decision making processes involved along the way."
   ]
  },
  {
   "cell_type": "markdown",
   "metadata": {},
   "source": [
    "\n",
    "## Data preparation :: Overview\n",
    "\n",
    "In this notebook we will explore the dataset, do a first analysis and prepare it for different machine learning tasks.\n",
    "\n",
    "### Task \n",
    "\n",
    "We will process the raw data, clean the text and extract additional features ain order to prepare it for further analysis and for building our machine learning models.\n",
    "\n",
    "### Notebook overview\n",
    "\n",
    "* Load the data\n",
    "* Text preprocessing\n",
    "* Feature extraction\n",
    "* Store cleaned data\n"
   ]
  },
  {
   "cell_type": "markdown",
   "metadata": {},
   "source": [
    "## Load the data"
   ]
  },
  {
   "cell_type": "code",
   "execution_count": 1,
   "metadata": {},
   "outputs": [],
   "source": [
    "# Load libraries and helper functions\n",
    "%run data_prep_tools.py\n",
    "%run EDA_tools.py"
   ]
  },
  {
   "cell_type": "code",
   "execution_count": 2,
   "metadata": {},
   "outputs": [
    {
     "name": "stdout",
     "output_type": "stream",
     "text": [
      "8546 emails loaded\n",
      "Cleaning data set:\n",
      "2710 duplicate emails found and removed\n",
      "4 empty emails found and removed\n",
      "\n",
      "5832 emails remaining\n",
      "\n",
      "Number of columns: 2\n",
      "Columns names:\n",
      "spam_label, text\n"
     ]
    }
   ],
   "source": [
    "# Load the data\n",
    "df_source = load_source_data()"
   ]
  },
  {
   "cell_type": "code",
   "execution_count": 3,
   "metadata": {},
   "outputs": [
    {
     "data": {
      "application/vnd.microsoft.datawrangler.viewer.v0+json": {
       "columns": [
        {
         "name": "index",
         "rawType": "int64",
         "type": "integer"
        },
        {
         "name": "spam_label",
         "rawType": "int64",
         "type": "integer"
        },
        {
         "name": "text",
         "rawType": "object",
         "type": "string"
        }
       ],
       "conversionMethod": "pd.DataFrame",
       "ref": "b2dde936-3190-47b2-8ac7-2eb113ae83fb",
       "rows": [
        [
         "1780",
         "1",
         "<META HTTP-EQUIV=3D\"Content-Type\" CONTENT=3D\"text/html;charset=3Diso-8859-1= \"> <!DOCTYPE HTML PUBLIC \"-//W3C//DTD HTML 4.0 Transitional//EN\"> <html xmlns:v=3D\"urn:schemas-microsoft-com:vml\" xmlns:o=3D\"urn:schemas-microsoft-com:office:office\" xmlns:w=3D\"urn:schemas-microsoft-com:office:word\" xmlns=3D\"http://www.w3.org/TR/REC-html40\"> <head> <meta http-equiv=3DContent-Type content=3D\"text/html; charset=3Diso-8859-1= \"> <meta name=3DProgId content=3DWord.Document> <meta name=3DGenerator content=3D\"Microsoft Word 9\"> <meta name=3DOriginator content=3D\"Microsoft Word 9\"> <link rel=3DFile-List href=3D\"./Alarms,%20New%20Hours_files/filelist.xml\"> <title>Alarms, New Hours .htm</title> <!--[if gte mso 9]><xml> <o:DocumentProperties> <o:Author>TGSWEL</o:Author> <o:LastAuthor>TGSWEL</o:LastAuthor> <o:Revision>2</o:Revision> <o:TotalTime>8</o:TotalTime> <o:Created>2002-05-11T16:41:00Z</o:Created> <o:LastSaved>2002-05-11T16:41:00Z</o:LastSaved> <o:Pages>2</o:Pages> <o:Words>415</o:Words> <o:Characters>2370</o:Characters> <o:Company>WCS</o:Company> <o:Lines>19</o:Lines> <o:Paragraphs>4</o:Paragraphs> <o:CharactersWithSpaces>2910</o:CharactersWithSpaces> <o:Version>9.4402</o:Version> </o:DocumentProperties> </xml><![endif]--> <style> <!-- /* Style Definitions */ p.MsoNormal, li.MsoNormal, div.MsoNormal {mso-style-parent:\"\"; margin:0in; margin-bottom:.0001pt; mso-pagination:widow-orphan; font-size:12.0pt; font-family:\"Times New Roman\"; mso-fareast-font-family:\"Times New Roman\";} p {font-size:12.0pt; font-family:\"Times New Roman\"; mso-fareast-font-family:\"Times New Roman\";} @page Section1 {size:8.5in 11.0in; margin:1.0in 1.25in 1.0in 1.25in; mso-header-margin:.5in; mso-footer-margin:.5in; mso-paper-source:0;} div.Section1 {page:Section1;} --> </style> <!--[if gte mso 9]><xml> <o:shapedefaults v:ext=3D\"edit\" spidmax=3D\"1027\"/> </xml><![endif]--><!--[if gte mso 9]><xml> <o:shapelayout v:ext=3D\"edit\"> <o:idmap v:ext=3D\"edit\" data=3D\"1\"/> </o:shapelayout></xml><![endif]--> </head> <body bgcolor=3Dwhite lang=3DEN-US style=3D'tab-interval:.5in'> <div class=3DSection1> <p class=3DMsoNormal>&nbsp;</p> <div align=3Dcenter> <table border=3D0 cellspacing=3D0 cellpadding=3D0 width=3D\"85%\" bgcolor=3D= \"#00125e\" style=3D'width:85.0%;mso-cellspacing:0in;background:#00125E;mso-padding-a= lt: 0in 0in 0in 0in'> <tr> <td width=3D\"100%\" style=3D'width:100.0%;padding:0in 0in 0in 0in'> <p align=3Dcenter style=3D'text-align:center'><b><span style=3D'font-siz= e:36.0pt; font-family:Arial;color:red'>U.S. HOMEOWNERS</span></b></p> <p align=3Dcenter style=3D'text-align:center'><b><span style=3D'font-siz= e:18.0pt; color:white'>CALL TODAY TO QUALIFY FOR </span></b></p> <p align=3Dcenter style=3D'text-align:center'><b><span style=3D'font-siz= e:18.0pt; color:white'>A FREE HOME SECURITY SYSTEM</span></b></p> <p align=3Dcenter style=3D'text-align:center'><b><span style=3D'font-siz= e:36.0pt; color:red'>1-800-775-0738</span></b></p> <p>&nbsp;</p> </td> </tr> </table> </div> <p class=3DMsoNormal align=3Dcenter style=3D'text-align:center'><span style=3D'color:black;display:none;mso-hide:all'><![if !supportEmptyParas]>= &nbsp;<![endif]><o:p></o:p></span></p> <div align=3Dcenter> <table border=3D0 cellspacing=3D0 cellpadding=3D0 width=3D\"85%\" style=3D'w= idth:85.0%; mso-cellspacing:0in;mso-padding-alt:0in 0in 0in 0in'> <tr> <td width=3D\"19%\" style=3D'width:19.0%;background:#00125E;padding:0in 0i= n 0in 0in'> <p class=3DMsoNormal>&nbsp;</p> </td> <td width=3D\"39%\" style=3D'width:39.0%;padding:0in 0in 0in 0in'> <p align=3Dcenter style=3D'text-align:center'><b><span style=3D'font-fam= ily:Arial; color:#BC2F0E'>America's most trusted</span></b> </p> <p align=3Dcenter style=3D'text-align:center'><b><span style=3D'font-fam= ily:Arial; color:#BC2F0E'>security system... </span></b></p> <p align=3Dcenter style=3D'text-align:center'><b><span style=3D'font-fam= ily:Arial; color:#BC2F0E'>The most </span></b></p> <p align=3Dcenter style=3D'text-align:center'><b><span style=3D'font-fam= ily:Arial; color:#BC2F0E'>comprehensive </span></b></p> <p align=3Dcenter style=3D'text-align:center'><b><span style=3D'font-fam= ily:Arial; color:#BC2F0E'>security package </span></b></p> <p align=3Dcenter style=3D'text-align:center'><b><span style=3D'font-fam= ily:Arial; color:#BC2F0E'>ever offered FREE!</span></b></p> </td> <td width=3D\"42%\" style=3D'width:42.0%;padding:0in 0in 0in 0in'> <p align=3Dcenter style=3D'text-align:center'>&nbsp;</p> <p align=3Dcenter style=3D'text-align:center'><b><span style=3D'font-siz= e:24.0pt; font-family:Arial'>Over 135,000 </span></b></p> <p align=3Dcenter style=3D'text-align:center'><b><span style=3D'font-siz= e:24.0pt; font-family:Arial'>Families made </span></b></p> <p align=3Dcenter style=3D'text-align:center'><b><span style=3D'font-siz= e:24.0pt; font-family:Arial'>the right </span></b></p> <p align=3Dcenter style=3D'margin-bottom:12.0pt;text-align:center'><b><s= pan style=3D'font-size:24.0pt;font-family:Arial'>choice!</span></b></p> </td> </tr> </table> </div> <p class=3DMsoNormal align=3Dcenter style=3D'text-align:center'><span style=3D'color:black;display:none;mso-hide:all'><![if !supportEmptyParas]>= &nbsp;<![endif]><o:p></o:p></span></p> <div align=3Dcenter> <table border=3D0 cellspacing=3D0 cellpadding=3D0 width=3D\"85%\" style=3D'w= idth:85.0%; mso-cellspacing:0in;mso-padding-alt:0in 0in 0in 0in'> <tr> <td width=3D\"19%\" style=3D'width:19.0%;background:#00125E;padding:0in 0i= n 0in 0in'> <p class=3DMsoNormal>&nbsp;</p> </td> <td width=3D\"81%\" style=3D'width:81.0%;padding:0in 0in 0in 0in'> <p align=3Dcenter style=3D'text-align:center'>&nbsp;</p> <p><b><span style=3D'font-size:10.0pt;font-family:Arial;color:#00125E'>I= n these troubled times, your family's safety is more important than ever! </span= ></b><span style=3D'font-size:10.0pt;font-family:Arial;color:black'>Defend your fam= ily against the threat of home invasion and forced entry. Make sure you're prepared to get help in the event of an emergency. </span><b><span style=3D'font-size:10.0pt;font-family:Arial;color:#00125E'>Take advantag= e of the following special offer.</span></b></p> <p><span style=3D'font-size:10.0pt;font-family:Arial'>For a limited time= you can receive our <strong><span style=3D'color:#00125E'>home security syst= em, </span></strong>THE most comprehensive home security package ever offered<strong><span style=3D'color:#00125E'> for FREE!&nbsp; You must call the Toll Free num= ber below to qualify for this Special Offer.</span></strong></span></p> <p><b><span style=3D'font-size:10.0pt;font-family:Arial;color:#00125E'>Y= ou don't have to be a victim!<span style=3D\"mso-spacerun: yes\">&nbsp; </spa= n></span></b><span style=3D'font-size:10.0pt;font-family:Arial'>Intelligent homeowners are awakening to one undeniable fact. Studies show burglars will commit crim= es somewhere else when confronted with a monitored security system.&nbsp;Ou= r home security system provides ultimate protection for your family and ho= me, 24-hours each and every day. The bad guys will have to go elsewhere to f= ind their victim.</span></p> <p><b><span style=3D'font-size:10.0pt;font-family:Arial;color:#00125E'>S= tate-of-the-art wireless technology! <span style=3D\"mso-spacerun: yes\">&nbsp;</span></sp= an></b><span style=3D'font-size:10.0pt;font-family:Arial'>Our security system is adva= nced wireless technology which enables a clean installation in approximately = one hour. No holes to drill, no unsightly wires to run.</span></p> <p><span style=3D'font-size:10.0pt;font-family:Arial'>Replacement parts (probably never needed) are <b><span style=3D'color:#00125E'>also free</= span></b>, with your <b><span style=3D'color:#00125E'>Lifetime Guaranteed Parts Replacement Warranty</span></b> for as long as your home is monitored by= our authorized UL listed monitoring facility. That tells you the confidence = we place in our product's quality.</span></p> <p><span style=3D'font-size:10.0pt;font-family:Arial;color:black'>We are absolutely confident our security system </span><strong><span style=3D'font-size:10.0pt;font-family:Arial;color:#00125E'>provides the necessary deterrence and detection</span></strong><span style=3D'font-si= ze: 10.0pt;font-family:Arial'> your home needs. To prove it, <b><span style=3D'color:#00125E'>The company will pay your insurance deductible (= Up to $250.00)</span></b> in the unlikely event you suffer a loss from an unwa= nted intrusion.<b><span style=3D'color:#00125E'> You also may be eligible for= up to 20% in insurance premium discounts.</span></b></span></p> <p><strong><span style=3D'font-size:10.0pt;font-family:Arial;color:black= '>To see if you qualify for this exciting offer, simply phone the toll free n= umber below, answer a few simple questions, and&nbsp;possibly have your new ho= me security system installed,</span></strong> <strong><span style=3D'font-s= ize: 10.0pt;font-family:Arial;color:black'>in your home, within 48 hours.</sp= an></strong></p> </td> </tr> </table> </div> <p class=3DMsoNormal align=3Dcenter style=3D'text-align:center'><span style=3D'color:black;display:none;mso-hide:all'><![if !supportEmptyParas]>= &nbsp;<![endif]><o:p></o:p></span></p> <div align=3Dcenter> <table border=3D0 cellspacing=3D0 cellpadding=3D0 width=3D\"85%\" style=3D'w= idth:85.0%; mso-cellspacing:0in;mso-padding-alt:0in 0in 0in 0in'> <tr> <td width=3D\"19%\" style=3D'width:19.0%;background:#00125E;padding:0in 0i= n 0in 0in'> <p class=3DMsoNormal>&nbsp;</p> </td> <td width=3D\"81%\" style=3D'width:81.0%;padding:0in 0in 0in 0in'> <p align=3Dcenter style=3D'text-align:center'><strong><span style=3D'fon= t-size: 24.0pt;font-family:Arial;color:red'>Call NOW !!&nbsp;&nbsp; </span></str= ong></p> <p align=3Dcenter style=3D'text-align:center'><strong><span style=3D'fon= t-size: 36.0pt;font-family:Arial;color:red'>1-800-775-0738</span></strong></p> <p align=3Dcenter style=3D'text-align:center'><strong><span style=3D'fon= t-size: 10.0pt;font-family:Arial;color:#00125E'>Operators are on duty 10</span><= /strong><strong><span style=3D'font-size:13.5pt;font-family:Arial;color:#00125E'>:</span></str= ong><strong><span style=3D'font-size:10.0pt;font-family:Arial;color:#00125E'>00 AM to 10:0= 0 PM EDT Monday-Friday,<o:p></o:p></span></strong></p> <p align=3Dcenter style=3D'text-align:center'><strong><span style=3D'fon= t-size: 10.0pt;font-family:Arial;color:#00125E'>10:00 AM to 2:00 PM EDT on Satur= day<o:p></o:p></span></strong></p> <p><![if !supportEmptyParas]>&nbsp;<![endif]><o:p></o:p></p> <p><![if !supportEmptyParas]>&nbsp;<![endif]><o:p></o:p></p> </td> </tr> </table> </div> <p class=3DMsoNormal align=3Dcenter style=3D'text-align:center'><span style=3D'color:black;display:none;mso-hide:all'><![if !supportEmptyParas]>= &nbsp;<![endif]><o:p></o:p></span></p> <div align=3Dcenter> <table border=3D0 cellspacing=3D0 cellpadding=3D0 width=3D\"85%\" style=3D'w= idth:85.0%; mso-cellspacing:0in;mso-padding-alt:0in 0in 0in 0in'> <tr> <td width=3D\"19%\" style=3D'width:19.0%;background:#00125E;padding:0in 0i= n 0in 0in'> <p class=3DMsoNormal>&nbsp;</p> </td> <td width=3D\"81%\" style=3D'width:81.0%;padding:0in 0in 0in 0in'> <p align=3Dcenter style=3D'text-align:center'><strong><span style=3D'fon= t-size: 18.0pt;font-family:Arial;color:black'>Your system will include the follo= wing:</span></strong></p> <p><strong><span style=3D'font-size:10.0pt;font-family:Arial;color:red'>= *</span></strong><strong><span style=3D'font-size:10.0pt;font-family:Arial;color:black'> No Connection = Fee </span></strong><strong><span style=3D'font-size:10.0pt;font-family:Arial;color:red'>*</span></strong>= <strong><span style=3D'font-size:10.0pt;font-family:Arial;color:black'> 10 Doors/Windo= ws Protected </span></strong><strong><span style=3D'font-size:10.0pt;font-f= amily: Arial;color:red'>* </span></strong><strong><span style=3D'font-size:10.0= pt; font-family:Arial;color:black'>Lifetime Warranty </span></strong><strong= ><span style=3D'font-size:10.0pt;font-family:Arial;color:red'>* </span></strong= ><strong><span style=3D'font-size:10.0pt;font-family:Arial;color:black'>Wireless-no dri= lling, no mess </span></strong><strong><span style=3D'font-size:10.0pt;font-fam= ily: Arial;color:red'>*</span></strong><strong><span style=3D'font-size:10.0p= t; font-family:Arial;color:black'>You own the System! </span></strong><stro= ng><span style=3D'font-size:10.0pt;font-family:Arial;color:red'>*</span></strong>= <strong><span style=3D'font-size:10.0pt;font-family:Arial;color:black'>Pages you when = the kids get Home </span></strong><strong><span style=3D'font-size:10.0pt; font-family:Arial;color:red'>*</span></strong><strong><span style=3D'fon= t-size: 10.0pt;font-family:Arial;color:black'>Rechargeable Battery Backup </span= ></strong><strong><span style=3D'font-size:10.0pt;font-family:Arial;color:red'>* </span></strong= ><strong><span style=3D'font-size:10.0pt;font-family:Arial;color:black'>Yard Signs and = Window Decals</span></strong></p> <p><strong><span style=3D'font-size:10.0pt;font-family:Arial;color:black= '>Remember,&nbsp; the system is Free and could save you as much as 20% on your Homeowners Insurance.&nbsp; This is a </span></strong><strong><span style=3D'font-s= ize: 10.0pt;font-family:Arial;color:navy'>limited time offer</span></strong><= strong><span style=3D'font-size:10.0pt;font-family:Arial;color:black'>, so call now t= o qualify for your </span></strong><strong><span style=3D'font-size:10.0pt= ; font-family:Arial;color:red'>FREE HOME SECURITY SYSTEM.</span></strong><= /p> <p align=3Dcenter style=3D'text-align:center'><strong><span style=3D'fon= t-size: 36.0pt;font-family:Arial;color:red'>Call Today! </span></strong></p> <p align=3Dcenter style=3D'text-align:center'><strong><span style=3D'fon= t-size: 10.0pt;font-family:Arial;color:#00125E'>10</span></strong><strong><span style=3D'font-size:13.5pt;font-family:Arial;color:#00125E'>:</span></str= ong><strong><span style=3D'font-size:10.0pt;font-family:Arial;color:#00125E'>00 AM to 10:0= 0 PM EDT Monday-Friday,<o:p></o:p></span></strong></p> <p align=3Dcenter style=3D'text-align:center'><strong><span style=3D'fon= t-size: 10.0pt;font-family:Arial;color:#00125E'>10:00 AM to 2:00 PM EDT on Satur= day<o:p></o:p></span></strong></p> <p align=3Dcenter style=3D'text-align:center'><![if !supportEmptyParas]>= &nbsp;<![endif]><o:p></o:p></p> <p align=3Dcenter style=3D'text-align:center'><strong><span style=3D'fon= t-size: 36.0pt;font-family:Arial;color:red'>1-800-775-0738</span></strong></p> <p align=3Dcenter style=3D'text-align:center'><strong><span style=3D'fon= t-size: 10.0pt;font-family:Arial;color:gray'>To be removed from future mailings, click 'Reply', type&nbsp;'Remove' as your subject, and send.</span></str= ong><strong><span style=3D'font-size:10.0pt;font-family:Arial;color:red'>&nbsp;&nbsp;</spa= n></strong></p> </td> </tr> </table> </div> <p class=3DMsoNormal><![if !supportEmptyParas]>&nbsp;<![endif]><o:p></o:p>= </p> </div> </body> </html>"
        ],
        [
         "682",
         "0",
         "Netscape Valued Customer: Announcing the NEW Netscape 7.0 Browser! Download it now for FREE! For more information and to download now, click here: http://dms-www01.netcenter.com/cgi-bin/gx.cgi/mcp?p=041Lnf041LoE51b9er012000W2TBvFJ Get Netscape 7.0 - the Fastest Netscape Browser Ever! It's easier than ever to upgrade to Netscape 7.0, and keep your bookmarks and browser settings. Upgrade to the NEW Netscape 7.0, and get the most from your time on-line. And Netscape 7.0 is also available on CD for FREE! Click here to order the CD and Guidebook: http://dms-www01.netcenter.com/cgi-bin/gx.cgi/mcp?p=041Lnh041LoE51b9er012000W2TBvFJ The Netscape Browser Team ----------------------------------------------------------- Netscape respects your online time and Internet privacy. If you would prefer not to receive future email messages from Netscape Netbusiness, please click on the following link or simply reply to this email and type \"REMOVE\" in the subject line. PLEASE NOTE: DO NOT CLICK ON THE LINK UNLESS YOU WANT TO UNSUBSCRIBE. http://dms-www01.netcenter.com/cgi-bin/gx.cgi/mcp?p=041LoB3SLb41LoE51b9er012000W2TBvFJ You are subscribed with:[ler@lerami.lerctr.org] (c) 2002 Netscape. All Rights Reserved. Privacy Policy, Terms of Service. http://channels.netscape.com/ns/browsers/download.jsp"
        ],
        [
         "368",
         "1",
         "Hi Job Seeker, When you create a FREE My Net-Temps account, you have access to the tools and resources for finding your next job more effectively. It only takes a minute. Plus you get news and tips specific to your profession. Everything you need is in your My Net-Temps account! * Post up to 3 resumes with the Build My Resume and Copy & Paste tools * Setup custom search agents to automatically receive job leads * Resume statistics to track your success * Resume, cover letter and thank you letter writing tips * Salary calculator * Career articles and weekly newsletter * Access to over 7500 recruiters that can help your job search Setup your account now at http://www.net-temps.com/careerdev/ The Net-Temps Team www.net-temps.com"
        ]
       ],
       "shape": {
        "columns": 2,
        "rows": 3
       }
      },
      "text/html": [
       "<div>\n",
       "<style scoped>\n",
       "    .dataframe tbody tr th:only-of-type {\n",
       "        vertical-align: middle;\n",
       "    }\n",
       "\n",
       "    .dataframe tbody tr th {\n",
       "        vertical-align: top;\n",
       "    }\n",
       "\n",
       "    .dataframe thead th {\n",
       "        text-align: right;\n",
       "    }\n",
       "</style>\n",
       "<table border=\"1\" class=\"dataframe\">\n",
       "  <thead>\n",
       "    <tr style=\"text-align: right;\">\n",
       "      <th></th>\n",
       "      <th>spam_label</th>\n",
       "      <th>text</th>\n",
       "    </tr>\n",
       "  </thead>\n",
       "  <tbody>\n",
       "    <tr>\n",
       "      <th>1780</th>\n",
       "      <td>1</td>\n",
       "      <td>&lt;META HTTP-EQUIV=3D\"Content-Type\" CONTENT=3D\"text/html;charset=3Diso-8859-1= \"&gt; &lt;!DOCTYPE HTML PUBLIC \"-//W3C//DTD HTML 4.0 Transitional//EN\"&gt; &lt;html xmlns:v=3D\"urn:schemas-microsoft-com:vml\" xmlns:o=3D\"urn:schemas-microsoft-com:office:office\" xmlns:w=3D\"urn:schemas-microsoft-com:office:word\" xmlns=3D\"http://www.w3.org/TR/REC-html40\"&gt; &lt;head&gt; &lt;meta http-equiv=3DContent-Type content=3D\"text/html; charset=3Diso-8859-1= \"&gt; &lt;meta name=3DProgId content=3DWord.Document&gt; &lt;meta name=3DGenerator content=3D\"Microsoft Word 9\"&gt; &lt;meta name=3DOriginator content=3D\"Microsoft Word 9\"&gt; &lt;link rel=3DFile-List href=3D\"./Alarms,%20New%20Hours_files/filelist.xml\"&gt; &lt;title&gt;Alarms, New Hours .htm&lt;/title&gt; &lt;!--[if gte mso 9]&gt;&lt;xml&gt; &lt;o:DocumentProperties&gt; &lt;o:Author&gt;TGSWEL&lt;/o:Author&gt; &lt;o:LastAuthor&gt;TGSWEL&lt;/o:LastAuthor&gt; &lt;o:Revision&gt;2&lt;/o:Revision&gt; &lt;o:TotalTime&gt;8&lt;/o:TotalTime&gt; &lt;o:Created&gt;2002-05-11T16:41:00Z&lt;/o:Created&gt; &lt;o:LastSaved&gt;2002-05-11T16:41:00Z&lt;/o:LastSaved&gt; &lt;o:Pages&gt;2&lt;/o:Pages&gt; &lt;o:Words&gt;415&lt;/o:Words&gt; &lt;o:Characters&gt;2370&lt;/o:Characters&gt; &lt;o:Company&gt;WCS&lt;/o:Company&gt; &lt;o:Lines&gt;19&lt;/o:Lines&gt; &lt;o:Paragraphs&gt;4&lt;/o:Paragraphs&gt; &lt;o:CharactersWithSpaces&gt;2910&lt;/o:CharactersWithSpaces&gt; &lt;o:Version&gt;9.4402&lt;/o:Version&gt; &lt;/o:DocumentProperties&gt; &lt;/xml&gt;&lt;![endif]--&gt; &lt;style&gt; &lt;!-- /* Style Definitions */ p.MsoNormal, li.MsoNormal, div.MsoNormal {mso-style-parent:\"\"; margin:0in; margin-bottom:.0001pt; mso-pagination:widow-orphan; font-size:12.0pt; font-family:\"Times New Roman\"; mso-fareast-font-family:\"Times New Roman\";} p {font-size:12.0pt; font-family:\"Times New Roman\"; mso-fareast-font-family:\"Times New Roman\";} @page Section1 {size:8.5in 11.0in; margin:1.0in 1.25in 1.0in 1.25in; mso-header-margin:.5in; mso-footer-margin:.5in; mso-paper-source:0;} div.Section1 {page:Section1;} --&gt; &lt;/style&gt; &lt;!--[if gte mso 9]&gt;&lt;xml&gt; &lt;o:shapedefaults v:ext=3D\"edit\" spidmax=3D\"1027\"/&gt; &lt;/xml&gt;&lt;![endif]--&gt;&lt;!--[if gte mso 9]&gt;&lt;xml&gt; &lt;o:shapelayout v:ext=3D\"edit\"&gt; &lt;o:idmap v:ext=3D\"edit\" data=3D\"1\"/&gt; &lt;/o:shapelayout&gt;&lt;/xml&gt;&lt;![endif]--&gt; &lt;/head&gt; ...</td>\n",
       "    </tr>\n",
       "    <tr>\n",
       "      <th>682</th>\n",
       "      <td>0</td>\n",
       "      <td>Netscape Valued Customer: Announcing the NEW Netscape 7.0 Browser! Download it now for FREE! For more information and to download now, click here: http://dms-www01.netcenter.com/cgi-bin/gx.cgi/mcp?p=041Lnf041LoE51b9er012000W2TBvFJ Get Netscape 7.0 - the Fastest Netscape Browser Ever! It's easier than ever to upgrade to Netscape 7.0, and keep your bookmarks and browser settings. Upgrade to the NEW Netscape 7.0, and get the most from your time on-line. And Netscape 7.0 is also available on CD for FREE! Click here to order the CD and Guidebook: http://dms-www01.netcenter.com/cgi-bin/gx.cgi/mcp?p=041Lnh041LoE51b9er012000W2TBvFJ The Netscape Browser Team ----------------------------------------------------------- Netscape respects your online time and Internet privacy. If you would prefer not to receive future email messages from Netscape Netbusiness, please click on the following link or simply reply to this email and type \"REMOVE\" in the subject line. PLEASE NOTE: DO NOT CLICK ON THE LINK UNLESS YOU WANT TO UNSUBSCRIBE. http://dms-www01.netcenter.com/cgi-bin/gx.cgi/mcp?p=041LoB3SLb41LoE51b9er012000W2TBvFJ You are subscribed with:[ler@lerami.lerctr.org] (c) 2002 Netscape. All Rights Reserved. Privacy Policy, Terms of Service. http://channels.netscape.com/ns/browsers/download.jsp</td>\n",
       "    </tr>\n",
       "    <tr>\n",
       "      <th>368</th>\n",
       "      <td>1</td>\n",
       "      <td>Hi Job Seeker, When you create a FREE My Net-Temps account, you have access to the tools and resources for finding your next job more effectively. It only takes a minute. Plus you get news and tips specific to your profession. Everything you need is in your My Net-Temps account! * Post up to 3 resumes with the Build My Resume and Copy &amp; Paste tools * Setup custom search agents to automatically receive job leads * Resume statistics to track your success * Resume, cover letter and thank you letter writing tips * Salary calculator * Career articles and weekly newsletter * Access to over 7500 recruiters that can help your job search Setup your account now at http://www.net-temps.com/careerdev/ The Net-Temps Team www.net-temps.com</td>\n",
       "    </tr>\n",
       "  </tbody>\n",
       "</table>\n",
       "</div>"
      ],
      "text/plain": [
       "      spam_label  \\\n",
       "1780           1   \n",
       "682            0   \n",
       "368            1   \n",
       "\n",
       "                                                                                                                                                                                                                                                                                                                                                                                                                                                                                                                                                                                                                                                                                                                                                                                                                                                                                                                                                                                                                                                                                                                                                                                                                                                                                                                                                                                                                                                                                                                                                                                                                                                                                                                                                                                                                                                                                                                                                                                                                                                                                 text  \n",
       "1780  <META HTTP-EQUIV=3D\"Content-Type\" CONTENT=3D\"text/html;charset=3Diso-8859-1= \"> <!DOCTYPE HTML PUBLIC \"-//W3C//DTD HTML 4.0 Transitional//EN\"> <html xmlns:v=3D\"urn:schemas-microsoft-com:vml\" xmlns:o=3D\"urn:schemas-microsoft-com:office:office\" xmlns:w=3D\"urn:schemas-microsoft-com:office:word\" xmlns=3D\"http://www.w3.org/TR/REC-html40\"> <head> <meta http-equiv=3DContent-Type content=3D\"text/html; charset=3Diso-8859-1= \"> <meta name=3DProgId content=3DWord.Document> <meta name=3DGenerator content=3D\"Microsoft Word 9\"> <meta name=3DOriginator content=3D\"Microsoft Word 9\"> <link rel=3DFile-List href=3D\"./Alarms,%20New%20Hours_files/filelist.xml\"> <title>Alarms, New Hours .htm</title> <!--[if gte mso 9]><xml> <o:DocumentProperties> <o:Author>TGSWEL</o:Author> <o:LastAuthor>TGSWEL</o:LastAuthor> <o:Revision>2</o:Revision> <o:TotalTime>8</o:TotalTime> <o:Created>2002-05-11T16:41:00Z</o:Created> <o:LastSaved>2002-05-11T16:41:00Z</o:LastSaved> <o:Pages>2</o:Pages> <o:Words>415</o:Words> <o:Characters>2370</o:Characters> <o:Company>WCS</o:Company> <o:Lines>19</o:Lines> <o:Paragraphs>4</o:Paragraphs> <o:CharactersWithSpaces>2910</o:CharactersWithSpaces> <o:Version>9.4402</o:Version> </o:DocumentProperties> </xml><![endif]--> <style> <!-- /* Style Definitions */ p.MsoNormal, li.MsoNormal, div.MsoNormal {mso-style-parent:\"\"; margin:0in; margin-bottom:.0001pt; mso-pagination:widow-orphan; font-size:12.0pt; font-family:\"Times New Roman\"; mso-fareast-font-family:\"Times New Roman\";} p {font-size:12.0pt; font-family:\"Times New Roman\"; mso-fareast-font-family:\"Times New Roman\";} @page Section1 {size:8.5in 11.0in; margin:1.0in 1.25in 1.0in 1.25in; mso-header-margin:.5in; mso-footer-margin:.5in; mso-paper-source:0;} div.Section1 {page:Section1;} --> </style> <!--[if gte mso 9]><xml> <o:shapedefaults v:ext=3D\"edit\" spidmax=3D\"1027\"/> </xml><![endif]--><!--[if gte mso 9]><xml> <o:shapelayout v:ext=3D\"edit\"> <o:idmap v:ext=3D\"edit\" data=3D\"1\"/> </o:shapelayout></xml><![endif]--> </head> ...  \n",
       "682                                                                                                                                                                                                                                                                                                                                                                                                                                                                                                                                                                                                                                                                                                                                   Netscape Valued Customer: Announcing the NEW Netscape 7.0 Browser! Download it now for FREE! For more information and to download now, click here: http://dms-www01.netcenter.com/cgi-bin/gx.cgi/mcp?p=041Lnf041LoE51b9er012000W2TBvFJ Get Netscape 7.0 - the Fastest Netscape Browser Ever! It's easier than ever to upgrade to Netscape 7.0, and keep your bookmarks and browser settings. Upgrade to the NEW Netscape 7.0, and get the most from your time on-line. And Netscape 7.0 is also available on CD for FREE! Click here to order the CD and Guidebook: http://dms-www01.netcenter.com/cgi-bin/gx.cgi/mcp?p=041Lnh041LoE51b9er012000W2TBvFJ The Netscape Browser Team ----------------------------------------------------------- Netscape respects your online time and Internet privacy. If you would prefer not to receive future email messages from Netscape Netbusiness, please click on the following link or simply reply to this email and type \"REMOVE\" in the subject line. PLEASE NOTE: DO NOT CLICK ON THE LINK UNLESS YOU WANT TO UNSUBSCRIBE. http://dms-www01.netcenter.com/cgi-bin/gx.cgi/mcp?p=041LoB3SLb41LoE51b9er012000W2TBvFJ You are subscribed with:[ler@lerami.lerctr.org] (c) 2002 Netscape. All Rights Reserved. Privacy Policy, Terms of Service. http://channels.netscape.com/ns/browsers/download.jsp  \n",
       "368                                                                                                                                                                                                                                                                                                                                                                                                                                                                                                                                                                                                                                                                                                                                                                                                                                                                                                                                                                                                                                                                                                                                                                                                                                                                                                                   Hi Job Seeker, When you create a FREE My Net-Temps account, you have access to the tools and resources for finding your next job more effectively. It only takes a minute. Plus you get news and tips specific to your profession. Everything you need is in your My Net-Temps account! * Post up to 3 resumes with the Build My Resume and Copy & Paste tools * Setup custom search agents to automatically receive job leads * Resume statistics to track your success * Resume, cover letter and thank you letter writing tips * Salary calculator * Career articles and weekly newsletter * Access to over 7500 recruiters that can help your job search Setup your account now at http://www.net-temps.com/careerdev/ The Net-Temps Team www.net-temps.com  "
      ]
     },
     "metadata": {},
     "output_type": "display_data"
    }
   ],
   "source": [
    "# If you rerun this cell multiple times you get different samples displayed each time\n",
    "# OR you can replace the number 3 with a number of your choice\n",
    "display(df_source.sample(3))"
   ]
  },
  {
   "cell_type": "markdown",
   "metadata": {
    "tags": []
   },
   "source": [
    "## Text preprocessing\n",
    "\n",
    "Good text preprocessing is an essential part of every NLP project. It is the first step in the machine learning pipeline and it is important to get it right. The goal of text preprocessing is to transform the raw text into a format that can be used by machine learning algorithms.\n",
    "\n",
    "Our overall goal is to build models that can help us distinguish non-spam from spam. \n",
    "\n",
    "The examples above have shown us that some samples are quite messy and contain a lot of content unnecessary for understanding the text as a human, i.e. they contain \"noise\". As a first step we will \"*clean*\" and \"*standardize*\" raw text. Our aim is to keep as many \"*informative*\" words as possible, while discarding the \"*uniformative*\" ones. Removing the noise from our texts will help to improve the accuracy of our models.\n",
    "\n",
    "We thus need to identify which parts of the text are acting as \"*noise*\" in our text and remove it."
   ]
  },
  {
   "cell_type": "markdown",
   "metadata": {},
   "source": [
    "## Your Task:\n",
    "\n",
    "<div class=\"alert alert-success\">\n",
    "<h3>Questions</h3>\n",
    "    \n",
    "__Q1.__ What parts of the text do you think are noise?\n",
    "   \n",
    "__Q2.__ What should we do with these parts of the text?\n",
    "</div>\n"
   ]
  },
  {
   "cell_type": "markdown",
   "metadata": {},
   "source": [
    "#### Give your answer here:\n",
    "\n",
    "1.    \n",
    "\n",
    "\n",
    "\n",
    "\n",
    "\n",
    "2. \n",
    "\n",
    "\n",
    "\n",
    "\n",
    "\n"
   ]
  },
  {
   "cell_type": "markdown",
   "metadata": {},
   "source": [
    "## 💡 Observations\n",
    "\n",
    "1. There are some items in the text that should be removed to make it readable. Here are some suggestions:\n",
    "\n",
    "* HTML tags \n",
    "* URLs\n",
    "* E-mail addresses\n",
    "* Punctuation marks, digits (e.g. 2002, 1.1, ...)\n",
    "* Multiple whitespaces\n",
    "* Case conversion (e.g. Dog vs dog, ...)\n",
    "* English STOPWORDS (e.g. a, is, my, i, all, and, by...)\n",
    "* ...\n",
    "\n",
    "2. From experience, we know that the number of occurrences of the above items (HTML tags, URLs, etc) can be helpful to distinguish spam from non-spam. Similarly, the length of the emails and the frequency of punctuation marks or upper case letters could also give us clues as to whether we are dealing with spam or not."
   ]
  },
  {
   "cell_type": "markdown",
   "metadata": {},
   "source": [
    "The *clean_corpus* function below will take care of the parts raised in the 1st set of observations."
   ]
  },
  {
   "cell_type": "code",
   "execution_count": 4,
   "metadata": {},
   "outputs": [
    {
     "name": "stdout",
     "output_type": "stream",
     "text": [
      "Number of samples: 5832\n",
      "Number of columns: 3\n",
      "Columns names:\n",
      "spam_label, text, text_cleaned\n",
      "\n",
      "Number of duplicate cleaned texts found: 279\n",
      "Number of empty texts found: 27\n",
      "\n",
      "Email texts cleaned\n",
      "Number of samples: 5832\n"
     ]
    }
   ],
   "source": [
    "df_cleaned = clean_corpus(df_source)"
   ]
  },
  {
   "cell_type": "code",
   "execution_count": 5,
   "metadata": {},
   "outputs": [
    {
     "name": "stdout",
     "output_type": "stream",
     "text": [
      "\n",
      "Original document:\n",
      "\n",
      "Hello Adam, Thursday, September 05, 2002, 11:33:18 PM, you wrote: ALB> So, you're saying that\n",
      "product bundling works? Good point. Sometimes I wish I was still in CA. You deserve a good beating\n",
      "every so often... (anyone else want to do the honors?) ALB> And how is this any different from\n",
      "\"normal\" marriage exactly? Other then ALB> that the woman not only gets a man, but one in a country\n",
      "where both she and ALB> her offspring will have actual opportunities? Oh and the lack of ALB> \"de-\n",
      "feminized, over-sized, self-centered, mercenary-minded\" choices? Mmkay. For the nth time Adam, we\n",
      "don't live in the land of Adam-fantasy. Women actually are allowed to do things productive,\n",
      "independent and entirely free of their male counterparts. They aren't forced to cook and clean and\n",
      "merely be sexual vessels. Sometimes, and this will come as a shock to you, no doubt, men and women\n",
      "even find -love- (which is the crucial distinction between this system) and they marry one another\n",
      "for the satisfaction of being together. I know, far-fetched and idealistically crazy as it is, but\n",
      "such things do happen. I can guarantee you, if my mother was approached by my father, and 25 years\n",
      "ago, he commented on her cleaning ability as a motivator for marrying her, we would not be having\n",
      "this conversation now. If guys still have silly antequated ideas about 'women's role' then their\n",
      "opportunities for finding women _will_ be scarce. Again, these situations are great, provided\n",
      "everyone is aware that the relationship is a contractual one -- he wants a maid, a dog and a\n",
      "prostitute he doesn't have to pay, and she wants a country that isn't impoverished and teeming with\n",
      "AIDS. A contract, versus a true love-interest marriage. Egh. I really need to stop analyzing your\n",
      "posts to this extent. I blame law school and my cat. -BB ALB> - Adam L. \"Duncan\" Beberg ALB>\n",
      "http://www.mithral.com/~beberg/ ALB> beberg@mithral.com -- Best regards, bitbitch\n",
      "mailto:bitbitch@magnesium.net\n",
      "\n",
      "Cleaned document:\n",
      "\n",
      "hello adam thursday september wrote youre saying product bundling works good point wish deserve good\n",
      "beating want honors different normal marriage exactly woman gets country offspring actual\n",
      "opportunities lack feminized sized self centered mercenary minded choices mmkay time adam dont live\n",
      "land adam fantasy women actually allowed things productive independent entirely free male\n",
      "counterparts arent forced cook clean merely sexual vessels come shock doubt women love crucial\n",
      "distinction marry satisfaction know fetched idealistically crazy things happen guarantee mother\n",
      "approached father years commented cleaning ability motivator marrying having conversation guys silly\n",
      "antequated ideas womens role opportunities finding women scarce situations great provided aware\n",
      "relationship contractual wants maid prostitute doesnt wants country isnt impoverished teeming aids\n",
      "contract versus true love marriage really need stop analyzing posts extent blame school adam duncan\n",
      "beberg best regards bitbitch\n"
     ]
    }
   ],
   "source": [
    "# Let's look at some examples.\n",
    "# You can rerun this cell to get a different sample\n",
    "show_clean_text(df_cleaned)"
   ]
  },
  {
   "cell_type": "markdown",
   "metadata": {},
   "source": [
    "## Feature engineering \n",
    "\n",
    "## Part 1: Extracting numeric features"
   ]
  },
  {
   "cell_type": "markdown",
   "metadata": {},
   "source": [
    "We start with the ideas from the 2nd observation and create new features that count different noise components of the text."
   ]
  },
  {
   "cell_type": "code",
   "execution_count": 6,
   "metadata": {},
   "outputs": [
    {
     "name": "stdout",
     "output_type": "stream",
     "text": [
      "Number of samples and columns of input: (5832, 2)\n",
      "Number of columns: 2\n",
      "Columns names:\n",
      "spam_label, text\n",
      "\n",
      "Numeric features extracted\n",
      "Data size: (5832, 14)\n",
      "Number of columns: 14\n",
      "Columns names:\n",
      "email_counts, html tag_counts, url_counts, Twitter username_counts, hashtag_counts\n",
      "character_counts, word_counts, unique word_counts, punctuation mark_counts, uppercase word_counts\n",
      "lowercase word_counts, digit_counts, alphabetic char_counts, spam_label\n",
      "Numeric features saved to data/num_features.csv\n"
     ]
    }
   ],
   "source": [
    "num_features_df = extract_numeric_features(df=df_source, with_labels=True)"
   ]
  },
  {
   "cell_type": "markdown",
   "metadata": {},
   "source": [
    "## Feature engineering\n",
    "\n",
    "## Part 2: Extracting features from text"
   ]
  },
  {
   "cell_type": "markdown",
   "metadata": {},
   "source": [
    "Computers don't understand natural language and its unstructured form. So, how do we represent text?\n",
    "\n",
    "### Bag of words\n",
    "\n",
    "One of the simplest but in the early days of NLP effective and commonly used models to represent text for machine learning is the ***Bag of Words*** model ([link](https://en.wikipedia.org/wiki/Bag-of-words_model)). When using this model, we discard most of the structure of the input text (word order, chapters, paragraphs, sentences or formatting) and only count how often each word appears in each text. Discarding the structure and counting only word occurrences leads to the mental image of representing text as a \"bag\". "
   ]
  },
  {
   "cell_type": "markdown",
   "metadata": {},
   "source": [
    "\n",
    "**Example:** Let our toy corpus contain four documents."
   ]
  },
  {
   "cell_type": "markdown",
   "metadata": {},
   "source": [
    "```python\n",
    "corpus = [\n",
    "    'I enjoy paragliding.',\n",
    "    'I do like NLP.',\n",
    "    'I like deep learning.',\n",
    "    'O Captain! my Captain!'\n",
    "]\n",
    "```"
   ]
  },
  {
   "cell_type": "code",
   "execution_count": 13,
   "metadata": {},
   "outputs": [
    {
     "data": {
      "application/vnd.microsoft.datawrangler.viewer.v0+json": {
       "columns": [
        {
         "name": "Text",
         "rawType": "object",
         "type": "string"
        },
        {
         "name": "captain",
         "rawType": "int64",
         "type": "integer"
        },
        {
         "name": "deep",
         "rawType": "int64",
         "type": "integer"
        },
        {
         "name": "do",
         "rawType": "int64",
         "type": "integer"
        },
        {
         "name": "enjoy",
         "rawType": "int64",
         "type": "integer"
        },
        {
         "name": "i",
         "rawType": "int64",
         "type": "integer"
        },
        {
         "name": "learning",
         "rawType": "int64",
         "type": "integer"
        },
        {
         "name": "like",
         "rawType": "int64",
         "type": "integer"
        },
        {
         "name": "my",
         "rawType": "int64",
         "type": "integer"
        },
        {
         "name": "nlp",
         "rawType": "int64",
         "type": "integer"
        },
        {
         "name": "o",
         "rawType": "int64",
         "type": "integer"
        },
        {
         "name": "paragliding",
         "rawType": "int64",
         "type": "integer"
        }
       ],
       "conversionMethod": "pd.DataFrame",
       "ref": "7297deb5-7580-4e4b-9f68-f25fbd01f48e",
       "rows": [
        [
         "I enjoy paragliding.",
         "0",
         "0",
         "0",
         "1",
         "1",
         "0",
         "0",
         "0",
         "0",
         "0",
         "1"
        ],
        [
         "I do like NLP.",
         "0",
         "0",
         "1",
         "0",
         "1",
         "0",
         "1",
         "0",
         "1",
         "0",
         "0"
        ],
        [
         "I like deep learning.",
         "0",
         "1",
         "0",
         "0",
         "1",
         "1",
         "1",
         "0",
         "0",
         "0",
         "0"
        ],
        [
         "O Captain! my Captain!",
         "2",
         "0",
         "0",
         "0",
         "0",
         "0",
         "0",
         "1",
         "0",
         "1",
         "0"
        ]
       ],
       "shape": {
        "columns": 11,
        "rows": 4
       }
      },
      "text/html": [
       "<div>\n",
       "<style scoped>\n",
       "    .dataframe tbody tr th:only-of-type {\n",
       "        vertical-align: middle;\n",
       "    }\n",
       "\n",
       "    .dataframe tbody tr th {\n",
       "        vertical-align: top;\n",
       "    }\n",
       "\n",
       "    .dataframe thead th {\n",
       "        text-align: right;\n",
       "    }\n",
       "</style>\n",
       "<table border=\"1\" class=\"dataframe\">\n",
       "  <thead>\n",
       "    <tr style=\"text-align: right;\">\n",
       "      <th></th>\n",
       "      <th>captain</th>\n",
       "      <th>deep</th>\n",
       "      <th>do</th>\n",
       "      <th>enjoy</th>\n",
       "      <th>i</th>\n",
       "      <th>learning</th>\n",
       "      <th>like</th>\n",
       "      <th>my</th>\n",
       "      <th>nlp</th>\n",
       "      <th>o</th>\n",
       "      <th>paragliding</th>\n",
       "    </tr>\n",
       "    <tr>\n",
       "      <th>Text</th>\n",
       "      <th></th>\n",
       "      <th></th>\n",
       "      <th></th>\n",
       "      <th></th>\n",
       "      <th></th>\n",
       "      <th></th>\n",
       "      <th></th>\n",
       "      <th></th>\n",
       "      <th></th>\n",
       "      <th></th>\n",
       "      <th></th>\n",
       "    </tr>\n",
       "  </thead>\n",
       "  <tbody>\n",
       "    <tr>\n",
       "      <th>I enjoy paragliding.</th>\n",
       "      <td>0</td>\n",
       "      <td>0</td>\n",
       "      <td>0</td>\n",
       "      <td>1</td>\n",
       "      <td>1</td>\n",
       "      <td>0</td>\n",
       "      <td>0</td>\n",
       "      <td>0</td>\n",
       "      <td>0</td>\n",
       "      <td>0</td>\n",
       "      <td>1</td>\n",
       "    </tr>\n",
       "    <tr>\n",
       "      <th>I do like NLP.</th>\n",
       "      <td>0</td>\n",
       "      <td>0</td>\n",
       "      <td>1</td>\n",
       "      <td>0</td>\n",
       "      <td>1</td>\n",
       "      <td>0</td>\n",
       "      <td>1</td>\n",
       "      <td>0</td>\n",
       "      <td>1</td>\n",
       "      <td>0</td>\n",
       "      <td>0</td>\n",
       "    </tr>\n",
       "    <tr>\n",
       "      <th>I like deep learning.</th>\n",
       "      <td>0</td>\n",
       "      <td>1</td>\n",
       "      <td>0</td>\n",
       "      <td>0</td>\n",
       "      <td>1</td>\n",
       "      <td>1</td>\n",
       "      <td>1</td>\n",
       "      <td>0</td>\n",
       "      <td>0</td>\n",
       "      <td>0</td>\n",
       "      <td>0</td>\n",
       "    </tr>\n",
       "    <tr>\n",
       "      <th>O Captain! my Captain!</th>\n",
       "      <td>2</td>\n",
       "      <td>0</td>\n",
       "      <td>0</td>\n",
       "      <td>0</td>\n",
       "      <td>0</td>\n",
       "      <td>0</td>\n",
       "      <td>0</td>\n",
       "      <td>1</td>\n",
       "      <td>0</td>\n",
       "      <td>1</td>\n",
       "      <td>0</td>\n",
       "    </tr>\n",
       "  </tbody>\n",
       "</table>\n",
       "</div>"
      ],
      "text/plain": [
       "                        captain  deep  do  enjoy  i  learning  like  my  nlp  \\\n",
       "Text                                                                           \n",
       "I enjoy paragliding.          0     0   0      1  1         0     0   0    0   \n",
       "I do like NLP.                0     0   1      0  1         0     1   0    1   \n",
       "I like deep learning.         0     1   0      0  1         1     1   0    0   \n",
       "O Captain! my Captain!        2     0   0      0  0         0     0   1    0   \n",
       "\n",
       "                        o  paragliding  \n",
       "Text                                    \n",
       "I enjoy paragliding.    0            1  \n",
       "I do like NLP.          0            0  \n",
       "I like deep learning.   0            0  \n",
       "O Captain! my Captain!  1            0  "
      ]
     },
     "execution_count": 13,
     "metadata": {},
     "output_type": "execute_result"
    }
   ],
   "source": [
    "show_bag_of_words_vector()"
   ]
  },
  {
   "cell_type": "markdown",
   "metadata": {},
   "source": [
    "In the table above, each column represents a word from the corpus and each row one of the four documents. The value in each cell represents the number of times that word appears in a specific document. For example, the fourth document has the word `captain` occurring twice and the words `my` and `O` occurring once.\n",
    "\n",
    "The technical implementation of  Bag of Words is called a CountVectorizer. It converts each document into a rows of numbers, i.e. a numeric vector. Thus the name vectorizer.  \n",
    "\n",
    "While this kind of transformation allows machine learning algorithms to process text data effectively, it has a drawback. It treats all words as independent and ignores the context in which they appear. For example, losing information about the order of the words in the text can change the meaning of a sentence. The sentences \"I do like NLP\", \"Do I like NLP\" or \"NLP like I do\" have the same set of words but different meanings. \n",
    "\n",
    "### TF-IDF\n",
    "\n",
    "The **Term Frequency–Inverse Document Frequency** approach aims to address this limitation, by measuring how important a word is for a document relative to a collection of documents (the corpus). \n",
    "\n",
    "We use the implementation by scikit-learn. It calculates the TF-IDF score as the product of :\n",
    "- The **term frequency TF**, which is the ratio of the frequency of the word $w$ in the given document $d$ divided by the total number of words in the given document.   \n",
    "  So $TF(w, d) = \\frac{f(w, d)}{N(d)}$\n",
    "- and the (smoothed) )**inverse document frequency IDF**, which is given by \n",
    "$$IDF(w, D) = \\log\\left(\\frac{size(D)+1}{df(w, D)+1}\\right)+1$$ \n",
    "where $df(w, D)$ is the number of documents in the corpus $D$ that contain the word $w$. Adding `1` in the numerator and denominator keeps the IDF value finite and stable.\n",
    "\n",
    "This way, common words that appear in many documents (small IDF) are given less weight while rare words that appear in only a few documents get a higher weight (high IDF)."
   ]
  },
  {
   "cell_type": "code",
   "execution_count": 14,
   "metadata": {},
   "outputs": [
    {
     "data": {
      "application/vnd.microsoft.datawrangler.viewer.v0+json": {
       "columns": [
        {
         "name": "Text",
         "rawType": "object",
         "type": "string"
        },
        {
         "name": "captain",
         "rawType": "float64",
         "type": "float"
        },
        {
         "name": "deep",
         "rawType": "float64",
         "type": "float"
        },
        {
         "name": "do",
         "rawType": "float64",
         "type": "float"
        },
        {
         "name": "enjoy",
         "rawType": "float64",
         "type": "float"
        },
        {
         "name": "i",
         "rawType": "float64",
         "type": "float"
        },
        {
         "name": "learning",
         "rawType": "float64",
         "type": "float"
        },
        {
         "name": "like",
         "rawType": "float64",
         "type": "float"
        },
        {
         "name": "my",
         "rawType": "float64",
         "type": "float"
        },
        {
         "name": "nlp",
         "rawType": "float64",
         "type": "float"
        },
        {
         "name": "o",
         "rawType": "float64",
         "type": "float"
        },
        {
         "name": "paragliding",
         "rawType": "float64",
         "type": "float"
        }
       ],
       "conversionMethod": "pd.DataFrame",
       "ref": "72ffc95f-fadd-4f82-b5be-f641ecfa381c",
       "rows": [
        [
         "I enjoy paragliding.",
         "0.0",
         "0.0",
         "0.0",
         "0.6445029922609534",
         "0.41137791133379387",
         "0.0",
         "0.0",
         "0.0",
         "0.0",
         "0.0",
         "0.6445029922609534"
        ],
        [
         "I do like NLP.",
         "0.0",
         "0.0",
         "0.5745795256791941",
         "0.0",
         "0.3667466683744504",
         "0.0",
         "0.4530050977381881",
         "0.0",
         "0.5745795256791941",
         "0.0",
         "0.0"
        ],
        [
         "I like deep learning.",
         "0.0",
         "0.5745795256791941",
         "0.0",
         "0.0",
         "0.3667466683744504",
         "0.5745795256791941",
         "0.4530050977381881",
         "0.0",
         "0.0",
         "0.0",
         "0.0"
        ],
        [
         "O Captain! my Captain!",
         "0.816496580927726",
         "0.0",
         "0.0",
         "0.0",
         "0.0",
         "0.0",
         "0.0",
         "0.408248290463863",
         "0.0",
         "0.408248290463863",
         "0.0"
        ]
       ],
       "shape": {
        "columns": 11,
        "rows": 4
       }
      },
      "text/html": [
       "<div>\n",
       "<style scoped>\n",
       "    .dataframe tbody tr th:only-of-type {\n",
       "        vertical-align: middle;\n",
       "    }\n",
       "\n",
       "    .dataframe tbody tr th {\n",
       "        vertical-align: top;\n",
       "    }\n",
       "\n",
       "    .dataframe thead th {\n",
       "        text-align: right;\n",
       "    }\n",
       "</style>\n",
       "<table border=\"1\" class=\"dataframe\">\n",
       "  <thead>\n",
       "    <tr style=\"text-align: right;\">\n",
       "      <th></th>\n",
       "      <th>captain</th>\n",
       "      <th>deep</th>\n",
       "      <th>do</th>\n",
       "      <th>enjoy</th>\n",
       "      <th>i</th>\n",
       "      <th>learning</th>\n",
       "      <th>like</th>\n",
       "      <th>my</th>\n",
       "      <th>nlp</th>\n",
       "      <th>o</th>\n",
       "      <th>paragliding</th>\n",
       "    </tr>\n",
       "    <tr>\n",
       "      <th>Text</th>\n",
       "      <th></th>\n",
       "      <th></th>\n",
       "      <th></th>\n",
       "      <th></th>\n",
       "      <th></th>\n",
       "      <th></th>\n",
       "      <th></th>\n",
       "      <th></th>\n",
       "      <th></th>\n",
       "      <th></th>\n",
       "      <th></th>\n",
       "    </tr>\n",
       "  </thead>\n",
       "  <tbody>\n",
       "    <tr>\n",
       "      <th>I enjoy paragliding.</th>\n",
       "      <td>0.000000</td>\n",
       "      <td>0.00000</td>\n",
       "      <td>0.00000</td>\n",
       "      <td>0.644503</td>\n",
       "      <td>0.411378</td>\n",
       "      <td>0.00000</td>\n",
       "      <td>0.000000</td>\n",
       "      <td>0.000000</td>\n",
       "      <td>0.00000</td>\n",
       "      <td>0.000000</td>\n",
       "      <td>0.644503</td>\n",
       "    </tr>\n",
       "    <tr>\n",
       "      <th>I do like NLP.</th>\n",
       "      <td>0.000000</td>\n",
       "      <td>0.00000</td>\n",
       "      <td>0.57458</td>\n",
       "      <td>0.000000</td>\n",
       "      <td>0.366747</td>\n",
       "      <td>0.00000</td>\n",
       "      <td>0.453005</td>\n",
       "      <td>0.000000</td>\n",
       "      <td>0.57458</td>\n",
       "      <td>0.000000</td>\n",
       "      <td>0.000000</td>\n",
       "    </tr>\n",
       "    <tr>\n",
       "      <th>I like deep learning.</th>\n",
       "      <td>0.000000</td>\n",
       "      <td>0.57458</td>\n",
       "      <td>0.00000</td>\n",
       "      <td>0.000000</td>\n",
       "      <td>0.366747</td>\n",
       "      <td>0.57458</td>\n",
       "      <td>0.453005</td>\n",
       "      <td>0.000000</td>\n",
       "      <td>0.00000</td>\n",
       "      <td>0.000000</td>\n",
       "      <td>0.000000</td>\n",
       "    </tr>\n",
       "    <tr>\n",
       "      <th>O Captain! my Captain!</th>\n",
       "      <td>0.816497</td>\n",
       "      <td>0.00000</td>\n",
       "      <td>0.00000</td>\n",
       "      <td>0.000000</td>\n",
       "      <td>0.000000</td>\n",
       "      <td>0.00000</td>\n",
       "      <td>0.000000</td>\n",
       "      <td>0.408248</td>\n",
       "      <td>0.00000</td>\n",
       "      <td>0.408248</td>\n",
       "      <td>0.000000</td>\n",
       "    </tr>\n",
       "  </tbody>\n",
       "</table>\n",
       "</div>"
      ],
      "text/plain": [
       "                         captain     deep       do     enjoy         i  \\\n",
       "Text                                                                     \n",
       "I enjoy paragliding.    0.000000  0.00000  0.00000  0.644503  0.411378   \n",
       "I do like NLP.          0.000000  0.00000  0.57458  0.000000  0.366747   \n",
       "I like deep learning.   0.000000  0.57458  0.00000  0.000000  0.366747   \n",
       "O Captain! my Captain!  0.816497  0.00000  0.00000  0.000000  0.000000   \n",
       "\n",
       "                        learning      like        my      nlp         o  \\\n",
       "Text                                                                      \n",
       "I enjoy paragliding.     0.00000  0.000000  0.000000  0.00000  0.000000   \n",
       "I do like NLP.           0.00000  0.453005  0.000000  0.57458  0.000000   \n",
       "I like deep learning.    0.57458  0.453005  0.000000  0.00000  0.000000   \n",
       "O Captain! my Captain!   0.00000  0.000000  0.408248  0.00000  0.408248   \n",
       "\n",
       "                        paragliding  \n",
       "Text                                 \n",
       "I enjoy paragliding.       0.644503  \n",
       "I do like NLP.             0.000000  \n",
       "I like deep learning.      0.000000  \n",
       "O Captain! my Captain!     0.000000  "
      ]
     },
     "execution_count": 14,
     "metadata": {},
     "output_type": "execute_result"
    }
   ],
   "source": [
    "show_tfidf_vector()"
   ]
  },
  {
   "cell_type": "markdown",
   "metadata": {},
   "source": [
    "Below you can extract the text features using either the CountVectorizer (`vectorizer=\"count\"`) or the TfidfVectorizer (`vectorizer=\"tfidf\"`). Please note that this process takes a while, so be patient.\n",
    "\n",
    "For that reason, we have already pre-computed the features using `\"tfidf\"`and stored them in the `features` folder. You can load them using the command `load_feature_space(features=\"text\")`."
   ]
  },
  {
   "cell_type": "code",
   "execution_count": null,
   "metadata": {},
   "outputs": [
    {
     "name": "stdout",
     "output_type": "stream",
     "text": [
      "Number of columns: 10001\n",
      "First 5 names:\n",
      "aalib, aall, aaron, abacha, abandon\n",
      "Last 5 columns:\n",
      "zoom, zope, zurich, zyban, spam_label\n",
      "Text features saved to data/text_features.csv\n"
     ]
    },
    {
     "data": {
      "text/plain": [
       "(5832, 10001)"
      ]
     },
     "execution_count": 34,
     "metadata": {},
     "output_type": "execute_result"
    }
   ],
   "source": [
    "text_features_df = extract_text_features(\n",
    "    df_cleaned, vectorizer=\"tfidf\", with_labels=True, store=True\n",
    ")\n",
    "text_features_df.shape"
   ]
  },
  {
   "cell_type": "markdown",
   "metadata": {},
   "source": [
    "### Embeddings\n",
    "\n",
    "The Bag of Words and TF-IDF approaches cannot capture the meaning of words or the relationships between them. They also lead to very high-dimensional and sparse representations of the text which are not very efficient and can lead to overfitting.\n",
    "To address these limitations, we can use **embeddings** or transformer based models. Embeddings are denser vector representations of words are learned from large corpora of text. By representing similar words as similar vectors they can capture meaning and relationships in a continuous lower-dimensional vector space.\n",
    "\n",
    "We have passed the email texts through a language model to generate the associated embeddings. Since the feature extraction takes some time we have stored these embeddings and made them available for you in the file named `email_embeddings.csv`.\n",
    "\n",
    "You can load them using the command `load_feature_space(features=\"embeddings\")`."
   ]
  },
  {
   "cell_type": "code",
   "execution_count": null,
   "metadata": {},
   "outputs": [
    {
     "name": "stdout",
     "output_type": "stream",
     "text": [
      "Email embeddings loaded\n",
      "Data includes labels in the column 'spam_label'\n",
      "The data set has 5832 rows, 768 columns\n"
     ]
    }
   ],
   "source": [
    "embeddings_df = load_feature_space(features=\"embedding\")"
   ]
  }
 ],
 "metadata": {
  "kernelspec": {
   "display_name": "adsml2024",
   "language": "python",
   "name": "python3"
  },
  "language_info": {
   "codemirror_mode": {
    "name": "ipython",
    "version": 3
   },
   "file_extension": ".py",
   "mimetype": "text/x-python",
   "name": "python",
   "nbconvert_exporter": "python",
   "pygments_lexer": "ipython3",
   "version": "3.9.19"
  },
  "toc-autonumbering": false
 },
 "nbformat": 4,
 "nbformat_minor": 4
}
